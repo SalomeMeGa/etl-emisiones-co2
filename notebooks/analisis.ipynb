{
 "cells": [
  {
   "cell_type": "code",
   "execution_count": 3,
   "metadata": {},
   "outputs": [
    {
     "name": "stdout",
     "output_type": "stream",
     "text": [
      "Index(['country', 'year', 'iso_code', 'population', 'gdp', 'cement_co2',\n",
      "       'cement_co2_per_capita', 'co2', 'co2_growth_abs', 'co2_growth_prct',\n",
      "       'co2_including_luc', 'co2_including_luc_growth_abs',\n",
      "       'co2_including_luc_growth_prct', 'co2_including_luc_per_capita',\n",
      "       'co2_including_luc_per_gdp', 'co2_including_luc_per_unit_energy',\n",
      "       'co2_per_capita', 'co2_per_gdp', 'co2_per_unit_energy', 'coal_co2',\n",
      "       'coal_co2_per_capita', 'consumption_co2', 'consumption_co2_per_capita',\n",
      "       'consumption_co2_per_gdp', 'cumulative_cement_co2', 'cumulative_co2',\n",
      "       'cumulative_co2_including_luc', 'cumulative_coal_co2',\n",
      "       'cumulative_flaring_co2', 'cumulative_gas_co2', 'cumulative_luc_co2',\n",
      "       'cumulative_oil_co2', 'cumulative_other_co2', 'energy_per_capita',\n",
      "       'energy_per_gdp', 'flaring_co2', 'flaring_co2_per_capita', 'gas_co2',\n",
      "       'gas_co2_per_capita', 'ghg_excluding_lucf_per_capita', 'ghg_per_capita',\n",
      "       'land_use_change_co2', 'land_use_change_co2_per_capita', 'methane',\n",
      "       'methane_per_capita', 'nitrous_oxide', 'nitrous_oxide_per_capita',\n",
      "       'oil_co2', 'oil_co2_per_capita', 'other_co2_per_capita',\n",
      "       'other_industry_co2', 'primary_energy_consumption',\n",
      "       'share_global_cement_co2', 'share_global_co2',\n",
      "       'share_global_co2_including_luc', 'share_global_coal_co2',\n",
      "       'share_global_cumulative_cement_co2', 'share_global_cumulative_co2',\n",
      "       'share_global_cumulative_co2_including_luc',\n",
      "       'share_global_cumulative_coal_co2',\n",
      "       'share_global_cumulative_flaring_co2',\n",
      "       'share_global_cumulative_gas_co2', 'share_global_cumulative_luc_co2',\n",
      "       'share_global_cumulative_oil_co2', 'share_global_cumulative_other_co2',\n",
      "       'share_global_flaring_co2', 'share_global_gas_co2',\n",
      "       'share_global_luc_co2', 'share_global_oil_co2',\n",
      "       'share_global_other_co2', 'share_of_temperature_change_from_ghg',\n",
      "       'temperature_change_from_ch4', 'temperature_change_from_co2',\n",
      "       'temperature_change_from_ghg', 'temperature_change_from_n2o',\n",
      "       'total_ghg', 'total_ghg_excluding_lucf', 'trade_co2',\n",
      "       'trade_co2_share'],\n",
      "      dtype='object')\n"
     ]
    }
   ],
   "source": []
  }
 ],
 "metadata": {
  "kernelspec": {
   "display_name": "Python (datos_publicos)",
   "language": "python",
   "name": "datos_publicos"
  },
  "language_info": {
   "codemirror_mode": {
    "name": "ipython",
    "version": 3
   },
   "file_extension": ".py",
   "mimetype": "text/x-python",
   "name": "python",
   "nbconvert_exporter": "python",
   "pygments_lexer": "ipython3",
   "version": "3.12.3"
  }
 },
 "nbformat": 4,
 "nbformat_minor": 2
}
